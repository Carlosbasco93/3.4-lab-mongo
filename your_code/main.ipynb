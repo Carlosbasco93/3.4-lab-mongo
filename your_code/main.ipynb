{
 "cells": [
  {
   "cell_type": "markdown",
   "metadata": {},
   "source": [
    "# Advanced Querying Mongo"
   ]
  },
  {
   "cell_type": "markdown",
   "metadata": {},
   "source": [
    "Importing libraries and setting up connection"
   ]
  },
  {
   "cell_type": "code",
   "execution_count": null,
   "metadata": {},
   "outputs": [],
   "source": [
    "from pymongo import MongoClient\n",
    "client = MongoClient('mongodb://localhost:27017') #Puedes dejar el string vacío que se rellena con lo mismo\n",
    "db = client.ironhack"
   ]
  },
  {
   "cell_type": "code",
   "execution_count": null,
   "metadata": {},
   "outputs": [],
   "source": [
    "import pandas as pd"
   ]
  },
  {
   "cell_type": "markdown",
   "metadata": {},
   "source": [
    "### 1. All the companies whose name match 'Babelgum'. Retrieve only their `name` field."
   ]
  },
  {
   "cell_type": "code",
   "execution_count": null,
   "metadata": {},
   "outputs": [],
   "source": [
    "# Your Code\n",
    "list(db.companies.find({'name':'Babelgum'},{'name':1, '_id':0})) #1º Dict condicion 2º Dict Select"
   ]
  },
  {
   "cell_type": "code",
   "execution_count": null,
   "metadata": {},
   "outputs": [],
   "source": [
    "list(db.companies.find()[0]) #Chuleta"
   ]
  },
  {
   "cell_type": "markdown",
   "metadata": {},
   "source": [
    "### 2. All the companies that have more than 5000 employees. Limit the search to 20 companies and sort them by **number of employees**."
   ]
  },
  {
   "cell_type": "code",
   "execution_count": null,
   "metadata": {},
   "outputs": [],
   "source": [
    "# Your Code\n",
    "list(db.companies.find(\n",
    "                    {'number_of_employees':{'$gt':5e3}}\n",
    "                        ).sort('number_of_employees',1).limit(20)    \n",
    "    )"
   ]
  },
  {
   "cell_type": "markdown",
   "metadata": {},
   "source": [
    "### 3. All the companies founded between 2000 and 2005, both years included. Retrieve only the `name` and `founded_year` fields."
   ]
  },
  {
   "cell_type": "code",
   "execution_count": null,
   "metadata": {},
   "outputs": [],
   "source": [
    "# Your Code\n",
    "list(db.companies.find(\n",
    "                        {'$or':[{'founded_year':{'$gte':2e3}},{'founded_year':{'$lte':2005}}]},\n",
    "                       {'name':1, 'founded_year':1, '_id':0}\n",
    "                        )\n",
    "    )"
   ]
  },
  {
   "cell_type": "markdown",
   "metadata": {},
   "source": [
    "### 4. All the companies that had a Valuation Amount of more than 100.000.000 and have been founded before 2010. Retrieve only the `name` and `ipo` fields."
   ]
  },
  {
   "cell_type": "code",
   "execution_count": null,
   "metadata": {},
   "outputs": [],
   "source": [
    "# Your Code\n",
    "list(db.companies.find(\n",
    "                        {'$and':[{'ipo.valuation_amount':{'$gt':1e8}},{'founded_year':{'$lt':2010}}]},\n",
    "                       {'name':1, 'ipo':1, '_id':0}\n",
    "                        )\n",
    "    )"
   ]
  },
  {
   "cell_type": "markdown",
   "metadata": {},
   "source": [
    "### 5. All the companies that have less than 1000 employees and have been founded before 2005. Order them by the number of employees and limit the search to 10 companies."
   ]
  },
  {
   "cell_type": "code",
   "execution_count": null,
   "metadata": {},
   "outputs": [],
   "source": [
    "# Your Code\n",
    "list(db.companies.find(\n",
    "                        {'$and':[{'number_of_employees':{'$lt':1e3}},{'founded_year':{'$lt':2005}}]},\n",
    "                       #{'name':1, '_id':0}\n",
    "                        ).sort('number_of_employees',1).limit(10)\n",
    "    )"
   ]
  },
  {
   "cell_type": "markdown",
   "metadata": {},
   "source": [
    "### 6. All the companies that don't include the `partners` field."
   ]
  },
  {
   "cell_type": "code",
   "execution_count": null,
   "metadata": {},
   "outputs": [],
   "source": [
    "# Your Code\n",
    "list(db.companies.find(\n",
    "                    {'partners[0]':{'$eq':None}}\n",
    "                    #{}\n",
    "                        )\n",
    "    )"
   ]
  },
  {
   "cell_type": "markdown",
   "metadata": {},
   "source": [
    "### 7. All the companies that have a null type of value on the `category_code` field."
   ]
  },
  {
   "cell_type": "code",
   "execution_count": null,
   "metadata": {},
   "outputs": [],
   "source": [
    "# Your Code\n",
    "list(db.companies.find(\n",
    "                    {'category_code':{'$eq':None}}\n",
    "                    #{}\n",
    "                        )\n",
    "    )"
   ]
  },
  {
   "cell_type": "markdown",
   "metadata": {},
   "source": [
    "### 8. All the companies that have at least 100 employees but less than 1000. Retrieve only the `name` and `number of employees` fields."
   ]
  },
  {
   "cell_type": "code",
   "execution_count": null,
   "metadata": {},
   "outputs": [],
   "source": [
    "# Your Code\n",
    "list(db.companies.find(\n",
    "                        {'$and':[{'number_of_employees':{'$gte':1e2}},{'number_of_employees':{'$lt':1e3}}]},\n",
    "                       {'name':1, 'number_of_employees':1, '_id':0}\n",
    "                        )#.sort('number_of_employees',1)\n",
    "    )"
   ]
  },
  {
   "cell_type": "markdown",
   "metadata": {},
   "source": [
    "### 9. Order all the companies by their IPO price in a descending order."
   ]
  },
  {
   "cell_type": "code",
   "execution_count": null,
   "metadata": {},
   "outputs": [],
   "source": [
    "# Your Code\n",
    "list(db.companies.find(\n",
    "    #{}\n",
    "    #{}\n",
    ").sort('ipo.valuation_amount',-1))"
   ]
  },
  {
   "cell_type": "markdown",
   "metadata": {},
   "source": [
    "### 10. Retrieve the 10 companies with more employees, order by the `number of employees`"
   ]
  },
  {
   "cell_type": "code",
   "execution_count": null,
   "metadata": {},
   "outputs": [],
   "source": [
    "# Your Code\n",
    "list(db.companies.find(\n",
    "    #{}\n",
    "    #{}\n",
    ").sort('number_of_employees',-1).limit(10))"
   ]
  },
  {
   "cell_type": "markdown",
   "metadata": {},
   "source": [
    "### 11. All the companies founded on the second semester of the year. Limit your search to 1000 companies."
   ]
  },
  {
   "cell_type": "code",
   "execution_count": null,
   "metadata": {},
   "outputs": [],
   "source": [
    "# Your Code\n",
    "list(db.companies.find(\n",
    "    {'founded_month':{'$gt':6}}\n",
    "    #{}\n",
    "    ).limit(1000)\n",
    ")"
   ]
  },
  {
   "cell_type": "markdown",
   "metadata": {},
   "source": [
    "### 12. All the companies founded before 2000 that have an acquisition amount of more than 10.000.000"
   ]
  },
  {
   "cell_type": "code",
   "execution_count": null,
   "metadata": {},
   "outputs": [],
   "source": [
    "# Your Code\n",
    "list(db.companies.find(\n",
    "                        {'$and':[{'acquisition.price_amount':{'$gt':1e7}},{'founded_year':{'$lt':2e3}}]},\n",
    "                       #{'name':1, '_id':0}\n",
    "                        )#.sort('number_of_employees',1).limit(10)\n",
    "    )"
   ]
  },
  {
   "cell_type": "markdown",
   "metadata": {},
   "source": [
    "### 13. All the companies that have been acquired after 2010, order by the acquisition amount, and retrieve only their `name` and `acquisition` field."
   ]
  },
  {
   "cell_type": "code",
   "execution_count": null,
   "metadata": {},
   "outputs": [],
   "source": [
    "# Your Code\n",
    "list(db.companies.find(\n",
    "    {'acquisition.acquired_year':{'$gt':2010}},\n",
    "    {'name','acquisition'}\n",
    "    ).sort('acquisition.price_amount',-1)\n",
    ")"
   ]
  },
  {
   "cell_type": "markdown",
   "metadata": {},
   "source": [
    "### 14. Order the companies by their `founded year`, retrieving only their `name` and `founded year`."
   ]
  },
  {
   "cell_type": "code",
   "execution_count": null,
   "metadata": {},
   "outputs": [],
   "source": [
    "# Your Code\n",
    "list(db.companies.find(\n",
    "    {},\n",
    "    {'name','founded_year'}\n",
    "    ).sort('founded_year',-1)\n",
    ")"
   ]
  },
  {
   "cell_type": "markdown",
   "metadata": {},
   "source": [
    "### 15. All the companies that have been founded on the first seven days of the month, including the seventh. Sort them by their `acquisition price` in a descending order. Limit the search to 10 documents."
   ]
  },
  {
   "cell_type": "code",
   "execution_count": null,
   "metadata": {},
   "outputs": [],
   "source": [
    "# Your Code\n",
    "list(db.companies.find(\n",
    "    {'founded_day':{'$lte':7}},\n",
    "    #{'name','founded_year'}\n",
    "    ).sort('acquisition.price_amount',-1).limit(10)\n",
    ")"
   ]
  },
  {
   "cell_type": "markdown",
   "metadata": {},
   "source": [
    "### 16. All the companies on the 'web' `category` that have more than 4000 employees. Sort them by the amount of employees in ascending order."
   ]
  },
  {
   "cell_type": "code",
   "execution_count": null,
   "metadata": {},
   "outputs": [],
   "source": [
    "# Your Code\n",
    "list(db.companies.find(\n",
    "                        {'$and':[{'category_code':'web'},{'number_of_employees':{'$gt':4e3}}]},\n",
    "                       #{'name':1, '_id':0}\n",
    "                        ).sort('number_of_employees',1)\n",
    "    )"
   ]
  },
  {
   "cell_type": "markdown",
   "metadata": {},
   "source": [
    "### 17. All the companies whose acquisition amount is more than 10.000.000, and currency is 'EUR'."
   ]
  },
  {
   "cell_type": "code",
   "execution_count": null,
   "metadata": {},
   "outputs": [],
   "source": [
    "# Your Code\n",
    "list(db.companies.find(\n",
    "                        {'$and':[{'acquisition.price_amount':{'$gt':1e7}},{'acquisition.price_currency_code':'EUR'}]},\n",
    "                       #{'name':1, '_id':0}\n",
    "                        )\n",
    "    )"
   ]
  },
  {
   "cell_type": "markdown",
   "metadata": {},
   "source": [
    "### 18. All the companies that have been acquired on the first trimester of the year. Limit the search to 10 companies, and retrieve only their `name` and `acquisition` fields."
   ]
  },
  {
   "cell_type": "code",
   "execution_count": null,
   "metadata": {},
   "outputs": [],
   "source": [
    "# Your Code\n",
    "list(db.companies.find(\n",
    "    {'founded_month':{'$lte':4}},\n",
    "    {'name','acquisition'}\n",
    "    ).limit(10)\n",
    ")"
   ]
  },
  {
   "cell_type": "markdown",
   "metadata": {},
   "source": [
    "# Bonus\n",
    "### 19. All the companies that have been founded between 2000 and 2010, but have not been acquired before 2011."
   ]
  },
  {
   "cell_type": "code",
   "execution_count": null,
   "metadata": {},
   "outputs": [],
   "source": [
    "# Your Code\n",
    "list(db.companies.find(\n",
    "                        {'$and':[{'founded_year':{'$gte':2e3}},{'founded_year':{'$lte':2010}},{'acquisition.acquired_year':{'$gte':2011}}]},\n",
    "                       #{'name':1, '_id':0}\n",
    "                        )\n",
    "    )"
   ]
  },
  {
   "cell_type": "markdown",
   "metadata": {},
   "source": [
    "### 20. All the companies that have been 'deadpooled' after the third year."
   ]
  },
  {
   "cell_type": "code",
   "execution_count": null,
   "metadata": {},
   "outputs": [],
   "source": [
    "# Your Code\n",
    "list(db.companies.find(\n",
    "                        {'deadpooled_year':{'$ne':'null'}},\n",
    "                       #{'name':1, '_id':0}\n",
    "                        ).limit(1)\n",
    "    )"
   ]
  },
  {
   "cell_type": "code",
   "execution_count": null,
   "metadata": {},
   "outputs": [],
   "source": [
    "aux = db.companies.find( \n",
    "  {'$or': \n",
    "     [{'$and':[{'deadpooled_year':{'$lte':99}}, {'deadpooled_year':{'$gt':3}}]},\n",
    "      {'$and':[{'deadpooled_year':{'$gte':1000}}]},#, {'deadpooled_year.value'-'founded_year.value':{'$gt':3}}]}\n",
    "     ] \n",
    "   }, \n",
    "   {'name':1,'founded_year':1, 'deadpooled_year':1} \n",
    "    )\n",
    "df = pd.DataFrame.from_dict(aux)"
   ]
  },
  {
   "cell_type": "code",
   "execution_count": null,
   "metadata": {},
   "outputs": [],
   "source": [
    "df = df.dropna()"
   ]
  },
  {
   "cell_type": "code",
   "execution_count": null,
   "metadata": {},
   "outputs": [],
   "source": [
    "df['dp_diff']= df.deadpooled_year - df.founded_year"
   ]
  },
  {
   "cell_type": "code",
   "execution_count": null,
   "metadata": {},
   "outputs": [],
   "source": [
    "df._id[df.dp_diff>=3] #Listado de 541 empresas deadpooled después de 3 o más años desde su fundación"
   ]
  }
 ],
 "metadata": {
  "kernelspec": {
   "display_name": "Python 3 (ipykernel)",
   "language": "python",
   "name": "python3"
  },
  "language_info": {
   "codemirror_mode": {
    "name": "ipython",
    "version": 3
   },
   "file_extension": ".py",
   "mimetype": "text/x-python",
   "name": "python",
   "nbconvert_exporter": "python",
   "pygments_lexer": "ipython3",
   "version": "3.9.12"
  }
 },
 "nbformat": 4,
 "nbformat_minor": 2
}
